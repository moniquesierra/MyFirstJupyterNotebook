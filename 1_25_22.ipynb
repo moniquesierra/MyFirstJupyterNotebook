{
 "cells": [
  {
   "cell_type": "markdown",
   "id": "78205c44",
   "metadata": {},
   "source": [
    " print('hello')\n"
   ]
  },
  {
   "cell_type": "markdown",
   "id": "6604c6c0",
   "metadata": {},
   "source": [
    "# hello buddy\n",
    "## this is not my tea\n",
    " \n",
    "**this is a bold text** __this is a bold text too__\n",
    "\n",
    "* use one star to make a bullet\n"
   ]
  },
  {
   "cell_type": "code",
   "execution_count": null,
   "id": "4ae9e04f",
   "metadata": {},
   "outputs": [],
   "source": [
    "import numpy as np"
   ]
  },
  {
   "cell_type": "code",
   "execution_count": null,
   "id": "e31ab79d",
   "metadata": {},
   "outputs": [],
   "source": [
    "def square(x):\n",
    "    return x"
   ]
  }
 ],
 "metadata": {
  "kernelspec": {
   "display_name": "Python 3 (ipykernel)",
   "language": "python",
   "name": "python3"
  },
  "language_info": {
   "codemirror_mode": {
    "name": "ipython",
    "version": 3
   },
   "file_extension": ".py",
   "mimetype": "text/x-python",
   "name": "python",
   "nbconvert_exporter": "python",
   "pygments_lexer": "ipython3",
   "version": "3.9.7"
  }
 },
 "nbformat": 4,
 "nbformat_minor": 5
}
